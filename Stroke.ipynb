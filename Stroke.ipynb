{
 "cells": [
  {
   "cell_type": "markdown",
   "metadata": {},
   "source": [
    "# Einstein said, you have to be able to explain it to your grandma"
   ]
  },
  {
   "cell_type": "markdown",
   "metadata": {},
   "source": [
    "# How to understand a MRI image and Find out Stroks and a wiki about MRI image\n"
   ]
  },
  {
   "cell_type": "markdown",
   "metadata": {},
   "source": [
    "<tr>\n",
    "<td><img src=\"human_anatomy_planes.jpg\" alt=\"Drawing\" style=\"width: 200px;\"/> </td>\n",
    "<td><img src=\"images/axial_view.png\" alt=\"Drawing\" style=\"width: 700px;\"/> </td>\n",
    "\n",
    "</tr>"
   ]
  },
  {
   "cell_type": "markdown",
   "metadata": {},
   "source": [
    "Anatomical planes in a human:  <font color='red'> * median or sagittal plane </font>  <font color='yellow'>a parasagittal plane </font>  <font color='blue'>frontal or coronal plane</font>   <font color='green'>transverse or axial plane</font>"
   ]
  },
  {
   "cell_type": "markdown",
   "metadata": {},
   "source": [
    "An anatomical plane is a hypothetical plane used to transect the human body, in order to describe the location of structures or the direction of movements. In human and animal anatomy, three basic planes are used:\n",
    "\n",
    "*    The sagittal plane is a plane parallel to the sagittal suture. It divides the body into left and right.\n",
    "*    The coronal plane or frontal plane divides the body into dorsal and ventral (back and front, or posterior and anterior) portions.\n",
    "*    The transverse plane or axial plane divides the body into cranial and caudal (head and tail) portions.\n"
   ]
  },
  {
   "cell_type": "markdown",
   "metadata": {},
   "source": [
    "<tr>\n",
    "<td><img src=\"images/cerebrum_details.jpg\" alt=\"Drawing\" style=\"width: 500px;\"/></td>\n",
    "<td><img src=\"images/brainareas.jpg\" alt=\"Drawing\" style=\"width: 500px;\"/></td>\n",
    "</tr>"
   ]
  },
  {
   "cell_type": "markdown",
   "metadata": {},
   "source": [
    "Figure: Diffferent view of Human Brain "
   ]
  },
  {
   "cell_type": "markdown",
   "metadata": {
    "collapsed": true
   },
   "source": [
    "<img src=\"images/brain anatomy.png\">"
   ]
  },
  {
   "cell_type": "markdown",
   "metadata": {},
   "source": [
    "Figure: Human brain anatomy and Functions"
   ]
  },
  {
   "cell_type": "markdown",
   "metadata": {},
   "source": [
    "# Facts\n",
    "\n",
    "## Determining the size, location, and rate of loss of penumbra is complex. \n",
    "\n",
    "## Infarct location has a critical effect on patient outcome after ischemic stroke\n",
    "  * Can we reverse the damage of ischemic area by recanalizing blood\n",
    "  * How much area is under irreversible damage\n",
    "  * TICI score----Degree of disability\n",
    "  * mRS grading----(degree of recanalization)\n",
    "  * loss of function\n",
    "  * volume of ischemic area\n",
    "  \n",
    "\n",
    "\n",
    "> Find out the lesion as well as volume of pnumbra...\n",
    "\n",
    "> Differentiate between irreversibly affected brain tissue and reversibly impaired tissue (dead tissue versus tissue at risk)\n",
    "\n",
    "> Identify stenosis or occlusion of major extra- and intracranial arteries \n",
    "\n",
    "> Find out the lesion Volume is a problem in Image Sgmentation\n",
    "\n",
    "> Post tratment MRI image segmentation for examining the brain lesion volume whther the ** drug is working ** or lesion volume is increasing..\n",
    "\n",
    "> Ischemic to infraction--is it converting\n",
    "\n",
    "> Ischemic area: Damaged tisssue ---is the damage reversible or not?\n",
    "\n"
   ]
  },
  {
   "cell_type": "markdown",
   "metadata": {},
   "source": [
    "# Index"
   ]
  },
  {
   "cell_type": "markdown",
   "metadata": {},
   "source": [
    "<a id=\"index\"></a>"
   ]
  },
  {
   "cell_type": "markdown",
   "metadata": {},
   "source": [
    "1. Why we need T2 weighted(T2W) for Ischemic Stroke Lesion segmentation? What is the advantage---\n",
    "2. Why we don't need T1 weighted(T1W) for Ischemic Stroke Lesion segmentation? \n",
    "3. [Why we need ADC MRI image for Ischemic Stroke?](#adc_map)\n",
    "4. Why we need MTT MR image for Ischemic Stroke Lesion segmentation?\n",
    "5. [Why we need Perfusion raw,4D(PWI) image for Ischemic Stroke?](#perfusion)\n",
    "   * When we prform PWI,what is the difference between for Normal brain and brain with acute ischemic stroke\n",
    "6. Why we need Tmax for Ischemic Stroke Lesion segmentation? \n",
    "7. Why we need TTP for Ischemic Stroke Lesion segmentation?\n",
    "8. Why we need rBV and rBF for Ischemic Stroke Lesion segmentation? \n",
    "\n",
    "9. [What is MR Susceptibility?](#susecptibility)\n",
    "\n",
    "10. MR spectroscopy"
   ]
  },
  {
   "cell_type": "markdown",
   "metadata": {},
   "source": [
    ">  Stroke\n",
    "   * blood suply disrupted in some part or all brain\n",
    "   * loss of brain function"
   ]
  },
  {
   "cell_type": "markdown",
   "metadata": {},
   "source": [
    "#  Type of Stroke"
   ]
  },
  {
   "cell_type": "markdown",
   "metadata": {},
   "source": [
    "1. Ischemic\n",
    "   * most common\n",
    "   * clot\n",
    "   * Stopage of blood flow to a part of brain\n",
    "   * Total total 87% are Ischemic stroke\n",
    "2. Hemmorrhagic Stroke\n",
    "   * Rapture of blood vessel\n",
    "   * Bleeding around brain\n",
    "   * Bleeding into brain\n",
    "\n",
    "3. Transient ischemic attacks (TIAs), also referred to as mini-strokes\n",
    "   * Transient ischemic attack (TIA) is a warning sign of a future stroke – up to 40 percent of TIA patients will have a future stroke\n",
    "\n",
    "   \n",
    "> I above situatins that brain part starts to die\n",
    "  * lack of $O_2$\n",
    "  * lack of glucose\n",
    "\n",
    "\n",
    "# Question \n",
    "* Hyper-acute vs acute stroke?\n",
    "* Perfusion Diffusion Mismatch Concept?\n",
    "* Stroke Evolution from acute to chronic infraction"
   ]
  },
  {
   "cell_type": "markdown",
   "metadata": {},
   "source": [
    "# How much serious a stroke?"
   ]
  },
  {
   "cell_type": "markdown",
   "metadata": {},
   "source": [
    "> That depends upon\n",
    "  * Where the blood tissue has been damaged..\n",
    "  * How much blood tissue has been Damaged..."
   ]
  },
  {
   "cell_type": "markdown",
   "metadata": {},
   "source": [
    "# Causes of Stroke (etiology)"
   ]
  },
  {
   "cell_type": "markdown",
   "metadata": {},
   "source": [
    "* Heart Related\n",
    "  1. Atrial fibrilation\n",
    "     * Don't contract properly\n",
    "  2. myocardial infarction(MI)(also known as acute myocardial infarction (AMI))\n",
    "     * Myocardial infarction is the partial death of heart tissue commonly known as heart attack.\n",
    "     * occurs when blood flow stops to a part of the heart causing damage to the heart muscle.\n",
    "* Atheroschorsis( also known as arteriosclerotic vascular disease or ASVD)\n",
    "     cholesterol build up at the wall of artery\n",
    "* Transient Ischemic Attack(TIA):also known as **mini stroke**\n",
    "  * Temporary\n",
    "  * Similar to strokes\n",
    "  * Dont cause brain cell death\n",
    "  * No permanent Damage\n",
    "  * Symtoms will go away with in 24 hour\n",
    "  "
   ]
  },
  {
   "cell_type": "markdown",
   "metadata": {},
   "source": [
    "# Risk factors: You can take steps to reduce stroke but it is unpreventive"
   ]
  },
  {
   "cell_type": "markdown",
   "metadata": {},
   "source": [
    "> Risk fators\n",
    "* Non-Modifiable\n",
    "  * Age\n",
    "    * Increasing age increase the chance of stroke\n",
    "    * Artery wall become stiffer with increasing age\n",
    "  * Gender\n",
    "  * Race\n",
    "  * Heredity\n",
    "  * High fibrinogen\n",
    "  \n",
    "* Modifiable\n",
    "  * Diabetic\n",
    "    * Diabetes mellitus: Diabetes mellitus (or diabetes) is a chronic, lifelong condition that affects your body's ability to use the energy found in food. There are three major types of diabetes: type 1 diabetes, type 2 diabetes, and gestational diabetes.\n",
    "      All types of diabetes mellitus have something in common. Normally, your body breaks down the sugars and carbohydrates you eat into a special sugar called glucose. Glucose fuels the cells in your body. But the cells need insulin, a hormone, in your bloodstream in order to take in the glucose and use it for energy. With diabetes mellitus, either your body doesn't make enough insulin, it can't use the insulin it does produce, or a combination of both.\n",
    "\n",
    "      Since the cells can't take in the glucose, it builds up in your blood. High levels of blood glucose can damage the tiny blood vessels in your kidneys, heart, eyes, or nervous system. That's why diabetes -- especially if left untreated -- can eventually cause heart disease, stroke, kidney disease, blindness, and nerve damage to nerves in the feet.\n",
    "  \n",
    "  * Blood Pressure\n",
    "  * Alcohol \n",
    "    * Excssive alcohol Intake\n",
    "  * Smoking\n",
    "  * Heart Diseases\n",
    "    * Artial fibrillation\n",
    "    * Congestive Cardiac failure\n",
    "    * Infective endocarditis\n",
    "  * Oestrogen-containing drugs Oral contraceptive pill Hormone replacment therapy  \n",
    "  * Polycythaemia\n",
    "    \n",
    "  \n",
    "  * Above factors can be modify by changing life style\n"
   ]
  },
  {
   "cell_type": "markdown",
   "metadata": {},
   "source": [
    "# Basal cerebral blood flow regulation\n",
    "\n",
    "> Under normal conditions CBF is determined by both cerebral perfusion pressure (CPP) and cerebrovascular resistance (CVR). \n",
    "\n",
    "> CVR is determined by the diameter of the intracranial(within the skull) arteries and also blood viscosity. \n",
    "\n",
    "> CPP can be calculated from the difference between systemic arterial (denoting non pulmonary part of the circulatory system) pressure and venous back pressure. In conditions were CPP remains constant any change in CBF must result from a change in CVR, usually as a result of alteration in the diameter of the small intracranial arteries, which are the predominant resistance vessels. Thus under normal circumstances there is a direct correlation between CBF and CBV, which will both increase as vessels dilate and decrease as vessels constrict. This relation is disturbed in pathological states such as cerebral ischaemia. "
   ]
  },
  {
   "cell_type": "markdown",
   "metadata": {},
   "source": [
    "### MR imaging for estimating normal or abnormal blood flow in brain\n",
    "\n",
    "Two main categories of magnetic resonance imaging (MRI) techniques can be used to measure tissue perfusion in vivo.\n",
    "\n",
    "* The first is based on the use of an injected contrast agent that changes the magnetic susceptibility of blood     and thereby the MR signal which is repeatedly measured during bolus passage.\n",
    "\n",
    "* The other category is based on arterial spin labelling (ASL), where arterial blood is magnetically tagged before  it enters into the tissue being examined and the amount of labelling that is measured and compared to a control   recording obtained without spin labelling."
   ]
  },
  {
   "cell_type": "markdown",
   "metadata": {},
   "source": [
    "# Ischemic Stroke"
   ]
  },
  {
   "cell_type": "markdown",
   "metadata": {},
   "source": [
    "[acute ischemic]()----\n",
    "[sub-acute ischemic]()-----\n",
    "[lacunar ichemic](#lacunar)---\n",
    "[non lacunar ischemic]()----\n",
    "[chronic ischemic]()"
   ]
  },
  {
   "cell_type": "markdown",
   "metadata": {},
   "source": [
    "* The subset of ischemic stroke can be divided into based on timing from the onset of stroke symptoms. \n",
    "   1. hyperacute, \n",
    "      * first 6 hours. after the stroke onset\n",
    "   2. acute\n",
    "      * (0-7 days)\n",
    "      * ADC value decreases with maximal signal reduction at 1 to 4 days  (why? )\n",
    "      * marked hyperintensity on DWI (a combination of T2 and diffusion weighting), less hyperintensity on exponential images, and hypointensity on ADC images \n",
    "      * subsequently, release of inflammatory mediators from ischaemic brain tissue leads to vasogenic oedema with extravasation of water molecules from blood vessels to expand the interstitial space, where water molecule diffusion is highly unrestricted\n",
    "      * early DWI reversal (aka diffusion lesion reversal) can occur, most frequently with reperfusion, but this rarely alters the size of the eventual infarct and is probably a 'pseudoreversal\n",
    "\n",
    "   3. subacute and \n",
    "      * (1-3 weeks) \n",
    "      * ADC pseudonormalisation occurs in the second week (7-15 days)\n",
    "        * ADC values to rise and return to near baseline\n",
    "        * irreversible tissue necrosis is present despite normal ADC values\n",
    "        * DWI remains hyperintense due to T2 shine through\n",
    "      * after 2 weeks ADC values continue to rise above normal parenchyma and the region appears hyperintense 2\n",
    "\n",
    "   4. chronic stroke \n",
    "      * after 3 weeks\n",
    "      * ADC signal high\n",
    "      * DWI signal low (as T2 hyperintensity and thus T2 shine through resolve)\n"
   ]
  },
  {
   "cell_type": "markdown",
   "metadata": {},
   "source": [
    "# Causes of Ischemic Stroke\n",
    "\n",
    "1. Embolic stroke(non local): Particle of debris originating elsewhere that block arterial access to a particular brain region\n",
    "   1. Clot come from heart: Cerebral embolism occurs when a wandering clot or some other particle, called an embolus, is carried by the bloodstream until it lodges in an artery leading to or in the brain and blocks the flow of blood. The embolism could be due to a piece of clot or plaque that broke off from an atherosclerotic plaque. However, most embolic strokes are due to blood clots that form in persons with atrial fibrillation and enter the bloodstream.\n",
    "   2. Cholestrol build up\n",
    "      1. cardiac\n",
    "      2. carotid \n",
    "      3. paradoxial\n",
    "      4. aorta\n",
    "2. Thrombosis(local)\n",
    "   1. build up blood clot \n",
    "   2. Atherosclerosis\n",
    "      - Atherosclerosis, or hardening of the arteries, is a condition in which plaque builds up inside the arteries. Plaque is made of cholesterol, fatty substances, cellular waste products, calcium and fibrin (a clotting material in the blood).\n",
    "      - Atherosclerosis is a type of arteriosclerosis. Arteriosclerosis is a general term for the thickening and hardening of arteries. \n",
    "3. Systemic Hypoperfusion"
   ]
  },
  {
   "cell_type": "markdown",
   "metadata": {},
   "source": [
    "<tr>\n",
    "<td><img src=\"images/atherosclerosis.jpg\"></td>\n",
    "<td><img src=\"images/embolic_thrombo.jpg\"></td>\n",
    "</tr>"
   ]
  },
  {
   "cell_type": "markdown",
   "metadata": {},
   "source": [
    "# Lacunar Stroke (type of ischemic stroke)<a id=\"lacunar\"></a>\n",
    "\n",
    "#### Question : [What is the difference between lacunar and non lacunar stroke?](#lacunar_non_lacunar)\n",
    "\n",
    "* Lacunar stroke or lacunar infarct (LACI) is a type of stroke that results from occlusion of one of the penetrating arteries that provides blood to the brain's deep structures. \n",
    "\n",
    "* Patients who present with symptoms of a lacunar stroke, but who have not yet had diagnostic imaging performed, may be described as suffering from lacunar stroke syndrome \n",
    "\n",
    "* Much of the current knowledge of lacunar strokes comes from C. Miller Fisher's cadaver dissections of post-mortem stroke patients. He observed \"**lacunae\" (Latin for \"empty space**\") in the deep brain structures after occlusion of 200-800 μm penetrating arteries and connected them with 5 classic syndromes. These syndromes are still noted today, though lacunar infarcts are diagnosed based on clinical judgment and radiologic imaging.\n",
    "\n",
    "* A silent lacunar infarction (SLI) is one type of silent stroke which usually shows no identifiable outward symptoms thus the term \"silent\". Individuals who suffer a SLI are often completely unaware they have suffered a stroke. This type of stroke often causes lesions in the surrounding brain tissue that are visibly detected via neuroimaging techniques such as MRI and computerized axial tomography (CT scan). Silent strokes, including silent lacunar infarctions, have been shown to be much more common than previously thought, with an estimated prevalence rate of eleven million per year in the United States.\n",
    "\n",
    "* Approximately 10% of silent lacunar strokes are silent lacunar infarctions. While dubbed \"silent\" due to the immediate lack of classic stroke symptoms, SLIs can cause damage to the surrounding brain tissue (lesions) and can affect various aspects of a persons mood, personality, and cognitive functioning. An SLI or any type of silent stroke places an individual at greater risk for future major stroke"
   ]
  },
  {
   "cell_type": "markdown",
   "metadata": {},
   "source": [
    "<a id=\"lacunar_non_lacunar\"></a>"
   ]
  },
  {
   "cell_type": "markdown",
   "metadata": {},
   "source": [
    "# Difference between lacunar and non-lacunar stroke?"
   ]
  },
  {
   "cell_type": "markdown",
   "metadata": {},
   "source": [
    "small deep infarcts (SDI)----lacunar or non lacunar\n",
    "\n",
    "> Lacunes may be defined as small subcortical infarcts (< 15 mm in diameter) in the territory of the deep penetrating arteries; these lesions may present with specific lacunar syndromes or they may be asymptomatic. Unfortunately, the 5 classic lacunar syndromes established by Fisher and their radiologic appearances are not specific for lacunes. Lacunes occur most frequently in the basal ganglia and in the internal capsule, thalamus, corona radiata, and pons. "
   ]
  },
  {
   "cell_type": "markdown",
   "metadata": {},
   "source": [
    "# Ischemic Cascade\n",
    "\n",
    "* When an area goes ischemic condition............... \n",
    "\n",
    "* Reduction of blood flow reduces supply of oxygen and hence ATP. \n",
    "\n",
    "* H+(lactic acid) is produced by anaerobic metabolism of available glucose.\n",
    "  * anarobic metabolism give fifteen times less energy than ATP\n",
    "  * Lactic acid disrupt the acid base balance\n",
    "\n",
    "* Energy-dependent membrane ionic(Sodium Potasium) pumps fail,which leads to cytotoxic oedema and membrane depolarisation, allowing calcium entry and releasing glutamate.\n",
    "  * When cytotoxic edema happens---\n",
    "    * $H_2O$ or extracellualr fluid go to neuron and tries to dilute$Na^+$\n",
    "    * Neuron cell swells up and kills the cell\n",
    "    * This is called cytotoxic edema\n",
    "\n",
    "* Calcium enters cells via glutamate-gated channels and activates destructive intracellular enzymes, destroying intracellular organelles and cell membrane, with release of free radicals. \n",
    "\n",
    "* Free fatty acid release activates pro-coagulant pathways that exacerbate local ischemia.\n",
    "\n",
    "* Glial cells take up H+, can no longer take up extracellular glutamate and also suffer cell death, leading to liquefactive necrosis of whole arterial territory.\n"
   ]
  },
  {
   "cell_type": "markdown",
   "metadata": {},
   "source": [
    "# Ischemic Penumbra"
   ]
  },
  {
   "cell_type": "markdown",
   "metadata": {},
   "source": [
    "\n",
    "The concept of ischemic penumbra was originally introduced by Astrup et al in 1981, and was defined as **an area of reduced cerebral blood flow (CBF) with electrical failure but preserved ion homeostasis and transmembrane electrical potentials**. Since then, some other definitions for the ischemic penumbra have been proposed based on energy metabolism, CBF thresholds and protein synthesis.Because the target of thrombolytic therapy in acute stroke is the brain tissue at risk of infarction, the most clinically relevant definition of the penumbra indicates the ischemic tissue but still viable and salvageable if local perfusion is efficiently restored.It is widely acknowledged that the mismatch of abnormality volume between perfusion-weighted imaging (PWI) and diffusion-weighted imaging (DWI) of magnetic resonance imaging (MRI), has previously and frequently been applied as an imaging equivalent of the ischemic penumbra. The concept of perfusion-diffusion mismatch (PDM) provides a practical and approximate measure of the tissue at risk and has been increasingly applied for the evaluation of acute stroke in animals and patients"
   ]
  },
  {
   "cell_type": "markdown",
   "metadata": {},
   "source": [
    "<tr>\n",
    "<td><img src=\"images/penumbra1.jpg\"></td>\n",
    "<td><img src=\"images/penumbra.jpg\"></td>\n",
    "<td><img src=\"images/penumbra_detail.jpg\" ></td>\n",
    "</tr>"
   ]
  },
  {
   "cell_type": "markdown",
   "metadata": {},
   "source": [
    "\n",
    "\n",
    "Figure: The classic three-component tissue model of ischemic stroke model defines the central infarct core in which cells die quickly. In the penumbra region, where lack of oxygen and glucose produces rapid depletion of energy stores, cell death can be prevented by expeditious treatment. Beyond the penumbra is benign oligemia, a mildly ischemic region at low risk of tissue death, surrounded by normal brain parenchyma. All images courtesy of Dr. William Powers."
   ]
  },
  {
   "cell_type": "markdown",
   "metadata": {},
   "source": [
    "# Hammohragic Stroke"
   ]
  },
  {
   "cell_type": "markdown",
   "metadata": {},
   "source": [
    "> When the blood vessel leaks blood,leaked blood increase the pressure inside the brain and compresses the brain parts inside brain skull\n",
    "\n",
    "1. Aneurysm( pronounced as anjʊrɪz(ə)m)\n",
    "   * Heart wall rapture \n",
    "2. Arteriovenous Malformation(AVM)\n",
    "   * An AVM is a tangle of abnormal and poorly formed blood vessels (arteries and veins). They have a higher rate of bleeding        than normal vessels. AVMs can occur anywhere in the body. Brain AVMs are of special concern because of the damage they          cause when they bleed.\n",
    "   * Arteriovenous malformations are congenital anomalies of the blood vessels. High pressure blood vessels in our body are called arteries and the low pressure vessels are called veins. Under normal circumstances these two systems are not connected directly. Blood from arteries has to flow first though tiny vessels (capillaries), where most of the pressure is lost. Atreriovenous malformation is a direct connection between arteries and veins. Blood is rushing into thin-walled veins in AVM. Small caliber vein walls cannot withstand the pressure force and often rupture causing sub-arachnoid bleeding or bleeding inside the brain tissue."
   ]
  },
  {
   "cell_type": "markdown",
   "metadata": {},
   "source": [
    "<tr>\n",
    "<td><img src=\"images/aneurysm.jpg\"></td>\n",
    "<td><img src=\"images/avm.gif\"></td>\n",
    "</tr>"
   ]
  },
  {
   "cell_type": "markdown",
   "metadata": {},
   "source": [
    "<img src=\"images/clasi.jpg\">"
   ]
  },
  {
   "cell_type": "markdown",
   "metadata": {},
   "source": [
    "Figure: Shows the main causes of stroke"
   ]
  },
  {
   "cell_type": "markdown",
   "metadata": {
    "collapsed": true
   },
   "source": [
    "# Human Brain blood supply "
   ]
  },
  {
   "cell_type": "markdown",
   "metadata": {},
   "source": [
    "### Infarction\n",
    "Infarction is tissue death (necrosis) caused by a local lack of oxygen, due to an obstruction of the tissue's blood supply. The resulting lesion is referred to as an infarct(from the Latin infarctus, \"stuffed into\").\n",
    "\n",
    "> Myocardial infarction is the partial death of heart tissue commonly known as heart attack.\n",
    "\n",
    "> Cerebral infarction is a type of ischemic stroke resulting from a blockage in the blood vessels supplying blood to the brain. It can be atherothrombotic or embolic. Stroke caused by cerebral infarction should be distinguished from two other kinds of stroke: cerebral hemorrhage and subarachnoid hemorrhage. A cerebral infarction occurs when a blood vessel that supplies a part of the brain becomes blocked or leakage occurs outside the vessel walls. This loss of blood supply results in the death of tissue in that area. Cerebral infarctions vary in their severity with one third of the cases resulting in death.\n",
    "\n",
    "> Hemorrhagic infarcts are infarcts commonly caused by occlusion of veins, with red blood cells entering the area of the infarct, or an artery occlusion of an organ with collaterals or dual circulation. This is commonly seen in brain , lungs, liver and the GI tract, areas referred to as having \"loose tissue,\" or dual circulation. Loose-textured tissue allows red blood cells released from damaged vessles to diffuse through the necrotic tissue. White infarcts can become hemorrhagic with reperfusion. Compare to Anemic infarct. Hemorrhagic infarction is also associated with testicular torsion\n",
    "\n",
    "> Anemic infarcts (also called white infarcts or pale infarcts) are white or pale infarcts caused by arterial occlusions, and are usually seen in the heart, kidney and spleen. These are referred to as \"white\" because of the lack of hemorrhaging and limited red blood cells accumulation, (compare to Hemorrhagic infarct). "
   ]
  },
  {
   "cell_type": "markdown",
   "metadata": {},
   "source": [
    "# Perfusion\n",
    "In physiology, perfusion is the process of a body delivering blood to a capillary bed in its biological tissue.\n",
    "\n",
    "* Tissue perfusion the circulation of blood through the vascular bed of tissue.\n",
    "* Ineffective tissue perfusion defined as a state in which an individual has a decrease in oxygen resulting in failure to nourish the tissues at the capillary level.\n"
   ]
  },
  {
   "cell_type": "markdown",
   "metadata": {},
   "source": [
    "# This transition from ischemia to infarction not only depends on CBF values but also on the duration of the diminution in blood flow\n",
    "\n",
    "\n",
    "\n",
    "* Hypoxia is when the entire body OR a specific region of the body is oxygen-deprived. Generalized hypoxia happens when your entire body isn't getting enough oxygen. \n",
    "* There are specific hypoxias, too, like hypoxia to a region of the brain which happens when the blood vessels supplying oxygen are blocked or ruptured by, say, a stroke.\n",
    "\n",
    "> Hypoxia: Reduced oxygen supply to tissues\n",
    "\n",
    "> Hypoxia is a problem with oxygen supply.\n",
    "\n",
    "### Hypoxemia is low oxygen saturation in the blood, more specifically low oxygen saturation in arterial blood.\n",
    "\n",
    "> Hypoxaemia: reduced oxygen in blood.\n",
    "\n",
    "\n",
    "\n",
    "### Ischemia is oxygen deprivation of specific tissues. They're running low on oxygen, but haven't died yet.\n",
    "\n",
    "> Ischemia is a problem with blood supply.\n",
    "> Ischaemia: Reduced blood supply to tissues\n",
    "\n",
    "### Infarction is tissue death due to oxygen deprivation. Myocardial infarction = tissue death in the heart due to lack of oxygen = full blown heart attack.\n",
    "\n",
    "> Infarction: Death of tissue as a result of hypoxia.\n",
    "\n",
    "\n",
    "\n",
    "*  Ischemia and hypoxia aren't the same. Hypoxia is a lack of oxygen, any time any cell is not receiving enough O2 to meet it's metabolic demand. This does not necessarily causes dysfunction as cells can still operate with a lowered O2 availability and would not be able to be called ischemic.\n",
    "\n",
    "* Once a cell starts functioning abnormally due to the lack of oxygen from hypoxia you can say that it has become ischemic.\n",
    "\n",
    "* Infarct is pretty easy to describe as it happens as soon as a single cell dies, that's an infarct.\n",
    "\n",
    "* Keep in mind that Hypoxemia as a term does not reffer to usable oxygen, so a PT with CO poisoning could be hypoxic and not hypoxemic and still result in ischemia and infarct in tissues.\n",
    "\n",
    "\n",
    "\n",
    "\n",
    "> Myocardial ischemia and myocardial infarction are both conditions defining the failing condition of the heart muscle. While myocardial ischemia is characterized by a decrease in blood supply to the heart tissue which leads to chest pain or angina pectoris, myocardial infarction is the end point of this ischemia that results in death of heart tissue due to absence of blood supply.\n",
    "\n",
    "> Myocardial infarction is what is commonly termed as a heart attack and is often the result of a prolonged and untreated myocardial ischemia."
   ]
  },
  {
   "cell_type": "markdown",
   "metadata": {},
   "source": [
    "## What is the limit of rCBF ?\n",
    "## What is the limit of rCBV ?\n",
    "## What is the Tmax,TTP,MTT?\n",
    "## Comparison Tmax,TTP,MTT under normal and abnormal conditions:\n",
    "\n",
    "* Regional cerebral blood volume (rCBV)\n",
    "* regional cerebral blood flow (rCBF) \n",
    "* mean transit time (MTT)\n",
    "\n",
    "> ADC=Apparant Diffusion Cofficient\n",
    "> MTT=Mean Transit Time"
   ]
  },
  {
   "cell_type": "markdown",
   "metadata": {},
   "source": [
    "# Coparison CT scan and MRI\n",
    "One might confuse the head CT and the T1 MR sequence.  Both images display a structure that is white in the periphery and has CSF that is dark.  On MR this white structure represents the subcutaneous fat and on CT the bright structure is the skull.  The way to tell a head CT from a brain MR is in evaluating the brain parenchyma. \n",
    "\n",
    "1) MRI has superior soft tissue anatomic resolution than CT\n",
    "\n",
    "2) The distinction between the gray matter and white matter is much greater with T1 and T2 MR than with CT\n",
    "\n",
    "3) The color of the white matter on T1 MR is lighter than gray matter.  This relationship is opposite on CT: notice how the color of the white matter is darker than the gray matter.  This difference is related to the presence of fat containing myelin in the white matter. "
   ]
  },
  {
   "cell_type": "markdown",
   "metadata": {},
   "source": [
    "# PERFUSION IMAGING related terms\n",
    "\n",
    "## Time to Peak\t\n",
    "\t \n",
    "(TTP) A time to peak map shows the regional distribution of the time needed to the minimum perfusion signal, either gray scale or color-coded.\n",
    "\n",
    "> Measurement of perfusion is based on analysis of a hemodynamic time-to-signal\n",
    "intensity curve generated when a tracer passes through the cerebral circulation. \n",
    "\n",
    "> The curve(Below) may be processed by different means to extract parameters \n",
    "that reflect either the cerebral blood flow (CBF), cerebral blood volume (CBV) or mean \n",
    "transit time (MTT) which are linked by the equation \n",
    "$$CBV=CBF×MTT$$\n",
    "also known as the “central volume principle.”  \n",
    "\n",
    "> In normal brain tissue, vessel autoregulation maintains \n",
    "CBF at 50-60 mL/100g/min., but during early ischemia, the CBF diminishes while CBV \n",
    "rises slightly or is maintained at near normal level due to dilatation of the vascular bed. \n",
    "\n",
    "> When CBV begins to decrease or when CBF falls to < 20% of normal (10-12 mL/100gm/min), irreversible cell death has occurred. "
   ]
  },
  {
   "cell_type": "markdown",
   "metadata": {},
   "source": [
    "## The perfusion Imaging Curve"
   ]
  },
  {
   "cell_type": "markdown",
   "metadata": {},
   "source": [
    "<img src=\"images/ttt_relation.png\">\n",
    "\n",
    "\n",
    "Tissue state | TTP | CBV | CBF | MTT\n",
    "-------------|-----|-----|-----|----\n",
    "Normal | Normal | Normal | Normal \n",
    "Benign Hypermia | increases | Normal or Increases | Normal \n",
    "At Risk Ischemia | increases(red) | Normal or Increases | Decreases\n",
    "Infraction | increases(hole) | Decreases | Decreases\n",
    "\n"
   ]
  },
  {
   "cell_type": "markdown",
   "metadata": {},
   "source": [
    "This transition from ischemia to infarction not only depends on CBF values but \n",
    "also on the duration of the diminution in blood flow. \n",
    "\n",
    "Transit times become delayed \n",
    "early in the course of the ischemia typically due to occlusive lesions and subsequently \n",
    "rise to immeasurable levels as infarction ensues and downstream resistance increases.  \n",
    "\n",
    "Two parameters of transit time include MTT as well as time to peak (TTP), which \n",
    "reflects time from the beginning of the contrast injection to the peak enhancement \n",
    "within a region of\n",
    "interest. In general,tissue at risk of infarction will have normal or \n",
    "decreased CBF, normal or elevated CBV, and elevated MTT/TTP, while infarcted tissue \n",
    "will have decreased CBF and CBV with elevated MTT/TTP."
   ]
  },
  {
   "cell_type": "markdown",
   "metadata": {},
   "source": [
    "# How Does One Interpret Perfusion MR Images of Patients With Brain Ischemic Stroke?"
   ]
  },
  {
   "cell_type": "markdown",
   "metadata": {},
   "source": [
    "# How thresholding is done in TTP mapped perfusion image?\n",
    "\n",
    "Condition : Time to peak increases with infraction.\n",
    "\n",
    "By simply giving threshold like 2,4,6,8,10 sec etc"
   ]
  },
  {
   "cell_type": "markdown",
   "metadata": {},
   "source": [
    "# What is brain diffusion?\n",
    "* Under normal conditions, water in the brain tissue moves rather freely. When a disruption to the blood supply of the brain occurs, the tissue will swell.\n",
    "* A brain diffusion scan is performed in an MRI scanner and also uses EPI(Echo Planner Imaging). MR Brain diffusion utilizes the principle of microscopic water movement in the brain tissue."
   ]
  },
  {
   "cell_type": "markdown",
   "metadata": {},
   "source": [
    "# Is it differnet perfusion time for different tissue? "
   ]
  },
  {
   "cell_type": "markdown",
   "metadata": {
    "collapsed": true
   },
   "source": [
    "# FLAIR\n",
    "> (FLAIR) Fluid attenuation inversion recovery is a special inversion recovery sequence with long TI to remove the effects of fluid from the resulting images. The TI time of the FLAIR pulse sequence is adjusted to the relaxation time of the component that should be suppressed. For fluid suppression the inversion time (long TI) is set to the zero crossing point of fluid, resulting in the signal being 'erased'.\n",
    "Lesions that are normally covered by bright fluid signals using conventional T2 contrast are made visible by the dark fluid technique FLAIR is an important technique for the differentiation of brain and spine lesions."
   ]
  },
  {
   "cell_type": "markdown",
   "metadata": {},
   "source": [
    "# What is brain diffusion?\n",
    "* Under normal conditions, water in the brain tissue moves rather freely. When a disruption to the blood supply of the brain occurs, the tissue will swell.\n",
    "* A brain diffusion scan is performed in an MRI scanner and also uses EPI(Echo Planner Imaging). MR Brain diffusion utilizes the principle of microscopic water movement in the brain tissue."
   ]
  },
  {
   "cell_type": "markdown",
   "metadata": {
    "collapsed": false
   },
   "source": [
    "# DWI"
   ]
  },
  {
   "cell_type": "markdown",
   "metadata": {},
   "source": [
    "Diffusion Weighted Imaging -\n",
    "\t \n",
    "> (DWI) Magnetic resonance imaging is sensitive to diffusion, because the diffusion of water molecules along a field gradient reduces the MR signal. In areas of lower diffusion the signal loss is less intense and the display from this areas is brighter. The use of a bipolar gradient pulse and suitable pulse sequences permits the acquisition of diffusion weighted images (images in which areas of rapid proton diffusion can be distinguished from areas with slow diffusion).\n",
    "Based on echo planar imaging, multislice DWI is today a standard for imaging brain infarction. With enhanced gradients, the whole brain can be scanned within seconds. The degree of diffusion weighting correlates with the strength of the diffusion gradients, characterized by the b-value, which is a function of the gradient related parameters: strength, duration, and the period between diffusion gradients.\n",
    "\n",
    "> Certain illnesses show restrictions of diffusion, for example demyelinization and cytotoxic edema. Areas of cerebral infarction have decreased apparent diffusion, which results in increased signal intensity on diffusion weighted MRI scans. DWI has been demonstrated to be more sensitive for the early detection of stroke than standard pulse sequences and is closely related to temperature mapping.\n",
    "\n",
    "> DWIBS is a new diffusion weighted imaging technique for the whole body that produces PET-like images. The DWIBS sequence has been developed with the aim to detect lymph nodes and to differentiate normal and hyperplastic from metastatic lymph nodes. This may be possible caused by alterations in microcirculation and water diffusivity within cancer metastases in lymph nodes.\n",
    "\n",
    "> See also Diffusion Weighted Sequence, Perfusion Imaging, ADC Map, Apparent Diffusion Coefficient, and Diffusion Tensor Imaging.\n",
    "\n",
    "\n",
    "# Diffusion Weighted Imaging (DWI)(revisited)\n",
    "\n",
    "> DWI is the most sensitive sequence for stroke imaging.\n",
    "\n",
    "> DWI is sensitive to restriction of Brownian motion of extracellular water due to imbalance caused by cytotoxic edema.\n",
    "  * Cytotoxic Edema:  It is this swelling of the individual cells of the brain that is seen as the main distinguishing characteristic of cytotoxic edema, as opposed to vasogenic edema, wherein the influx of fluid is typically seen in the interstitial space rather than within the cells themselves.\n",
    "\n",
    ">Normally water protons have the ability to diffuse extracellularly and loose signal.\n",
    "\n",
    ">High intensity on DWI indicates restriction of the ability of water protons to diffuse extracellularly. "
   ]
  },
  {
   "cell_type": "markdown",
   "metadata": {},
   "source": [
    " \t\n",
    "> The process by which molecules or other particles intermingle and migrate due to their random thermal motion. Microscopic particles are jittering around with translational and rotational motions as a result of their thermal energy, which is half the Boltzmann constant multiplied by the absolute temperature of the system (½kT) per degree of freedom (3 directions of translation and 3 directions of rotation for ordinary particles).\n",
    "MRI provides a sensitive technique for measuring diffusion of some substances. These diffusive processes mean that particles reach areas of low from areas of high concentration, thus leading to equilibration. In body fluids, the distribution of capillaries within tissues is such that transport over macroscopic distances is accomplished by the blood circulation, while over intercapillary distances substances are carried by diffusion. The fluid diffusion constant is itself inversely proportional to the viscosity and the radius of the diffusing particles. "
   ]
  },
  {
   "cell_type": "markdown",
   "metadata": {
    "collapsed": true
   },
   "source": [
    "# Diffusion Weighted Sequence\t\n",
    "\t\n",
    "Diffusion weighted imaging can be performed similar to the phase contrast angiography sequence. The gradients must be increased in amplitude to depict the much slower motions of molecular diffusion in the body.\n",
    "\n",
    "While a T1 weighted MRI pulse sequence is diffusion sensitive, a quantitative diffusion pulse sequence was introduced by Steijskal and Tanner. Its characteristic features are two strong symmetrical gradient lobes placed on either side of the 180° refocusing pulse in a spin echo sequence. These symmetrical gradient lobes have the sole purpose of enhancing dephasing of spins, thereby accelerating intravoxel incoherent motion (IVIM) signal loss.\n",
    "Dephasing is proportional to the square of the time (diffusion time) during which the gradients are switched on and the strength of the applied gradient field. Therefore, the use of high field gradient systems with faster and more sensitive sequences, make diffusion weighting more feasible.\n",
    "\n",
    "Areas in which the protons diffuse rapidly (swollen cells in early stroke, less restriction to diffusion) will show an increased signal when the echo is measured relative to areas in which diffusion is restricted. For increased accuracy of diffusion measurement and image enhancement, useful motion correction techniques such as navigator echo and other methods should be used. In addition to this, applying the b-value calculated by the strength and duration of motion probing gradients with a high rate of accuracy is very important."
   ]
  },
  {
   "cell_type": "markdown",
   "metadata": {},
   "source": [
    "# ADC Map <a id=\"adc_map\"></a>\n",
    "> Diffusion Weighted Imaging -\n",
    "\n",
    "Constructed from the DWI images, the ADC map show the underperfused area as hypointense region. Compared to the DWI trace images, the ADC map does not suffer from confounding T2 shine-through effects.\n",
    "\t\n",
    "An ADC map shows parametric images containing the apparent diffusion coefficients of diffusion weighted images. The term apparent refers to the dependence of these coefficients on factors other than prior molecular mobility. Also called diffusion map."
   ]
  },
  {
   "cell_type": "markdown",
   "metadata": {},
   "source": [
    " \t\n",
    "# Apparent Diffusion Coefficient\t\n",
    "> Diffusion Weighted Imaging -\n",
    "\t \n",
    "\t\n",
    "(ADC) A diffusion coefficient to differentiate T2 shine through effects or artifacts from real ischemic lesions. In the human brain, water diffusion is a three-dimensional process that is not truly random because the diffusional motion of water is impeded by natural barriers. These barriers are cell membranes, myelin sheaths, white matter fiber tracts, and protein molecules.\n",
    "\n",
    "The apparent water diffusion coefficients can be calculated by acquiring two or more images with a different gradient duration and amplitude (b-values). The contrast in the ADC map depends on the spatially distributed diffusion coefficient of the acquired tissues and does not contain T1 and T2* values.\n",
    "\n",
    "The increased sensitivity of diffusion-weighted MRI in detecting acute ischemia is thought to be the result of the water shift intracellularly restricting motion of water protons ([cytotoxic edema](#cytotoxic)), whereas the conventional T2 weighted images show signal alteration mostly as a result of vasogenic edema.\n",
    "\n",
    "The reduced ADC value also could be the result of decreased temperature in the nonperfused tissues, loss of brain pulsations leading to a decrease in apparent proton motion, increased tissue osmolality associated with ischemia, or a combination of these factors. \n",
    "\n",
    "> The lower ADC measurements seen with early ischemia, have not been fully established, however, a lower apparent ADC is a sensitive indicator of early ischemic brain at a stage when ischemic tissue remains potentially salvageable."
   ]
  },
  {
   "cell_type": "markdown",
   "metadata": {},
   "source": [
    "# Looking Different type of strokes in different type DW imaging techniques"
   ]
  },
  {
   "cell_type": "markdown",
   "metadata": {},
   "source": [
    "  <a id=\"perfusion\">"
   ]
  },
  {
   "cell_type": "markdown",
   "metadata": {},
   "source": [
    "# Perfusion Imaging\t\n",
    "\t \n",
    " * MRI perfusion imaging (PWI) represents a form of functional imaging that assesses alterations in blood flow with additional information on metabolism and regional measures of a specific tracer.  This technique has been employed for avariety of conditions, but it is most commonly used in cerebrovascular disorders, especially acute ischemia\n",
    "\n",
    "\n",
    "(PWI - Perfusion Weighted Imaging) Perfusion MRI techniques (e.g. PRESTO - Principles of Echo Shifting using a Train of Observations) are sensitive to microscopic levels of blood flow. \n",
    "\n",
    "* Contrast enhanced relative cerebral blood volume (rCBV) is the most used perfusion imaging. Both, the ready availability and the T2* susceptibility effects of gadolinium, rather than the T1 shortening effects make gadolinium a suitable agent for use in perfusion imaging. \n",
    "\n",
    "<a id=\"suseptibility\"></a>\n",
    "\n",
    "  * Susceptibility here refers to the loss of MR signal, most marked on T2* (gradient echo)-weighted and T2 (spin echo)-weighted sequences, caused by the magnetic field-distorting effects of paramagnetic substances.\n",
    "\n",
    "* T2* perfusion uses dynamic sequences based on multi or single shot techniques. The T2* (T2) MRI signal drop within or across a brain region is caused by spin dephasing during the rapid passage of contrast agent through the capillary bed. The signal decrease is used to compute the relative perfusion to that region. The bolus through the tissue is only a few seconds, high temporal resolution imaging is required to obtain sequential images during the wash in and wash out of the contrast material and therefore, resolve the first pass of the tracer. Due to the high temporal resolution, processing and calculation of hemodynamic maps are available (including mean transit time (MTT), time to peak (TTP), time of arrival (T0), negative integral (N1) and index.\n",
    "\n",
    "* An important neuroradiological indication for MRI is the evaluation of incipient or acute stroke via perfusion and diffusion imaging. Diffusion imaging can demonstrate the central effect of a stroke on the brain, whereas perfusion imaging visualizes the larger 'second ring' delineating blood flow and blood volume. Qualitative and in some instances quantitative (e.g. quantitative imaging of perfusion using a single subtraction) maps of regional organ perfusion can thus be obtained.\n",
    "\n",
    "* Echo planar and potentially echo volume techniques together with appropriate computing power offer real time images of dynamic variations in water characteristics reflecting perfusion, diffusion, oxygenation (see also Oxygen Mapping) and flow.\n",
    "\n",
    "> Another type of perfusion MR imaging allows the evaluation of myocardial ischemia during pharmacologic stress. After e.g., adenosine infusion, multiple short axis views (see cardiac axes) of the heart are obtained during the administration of gadolinium contrast. Ischemic areas show up as areas of delayed and diminished enhancement. The MRI stress perfusion has been shown to be more accurate than nuclear SPECT exams. Myocardial late enhancement and stress perfusion imaging can also be performed during the same cardiac MRI examination."
   ]
  },
  {
   "cell_type": "markdown",
   "metadata": {},
   "source": [
    "[click here to go to the Main Index](#index)"
   ]
  },
  {
   "cell_type": "markdown",
   "metadata": {},
   "source": [
    "### copied from http://neuroangio.org/neuroangio-topics/perfusion-primer/\n",
    "\n",
    "### Brain blood flow at baseline and stroke\n",
    "\n",
    "Blood flow through an artery, or vascular bed, is determined by a simple relationship:\n",
    "\n",
    "$$Flow = {Pressure} / {Resistance}$$, where resistance is mainly defined as inverse of vasodilatation — the more “open” the vascular bed, the less resistance\n",
    "\n",
    "When an artery is occluded (thromboembolic stroke), flow to the corresponding vascular bed is decreased.  To compensate for decreased flow, the body can only do two things — increase pressure, and decrease resistance.\n",
    "\n",
    "$$flow = {Pressure} / {Resistance}$$\n",
    "Pressure — more important than the actual number is the “effectiveness” of pressure.  Systolic of 150 in a healthy 20-year-old is more effective than that of 220 in a vasculopath.\n",
    "\n",
    "Resistance — resistance is decreased by vasodilatation, whereby both volume and inflow capacity of the vascular bed is increased, thus “drawing” blood into the area.  The effectiveness of vasodilatation is the primary determinant of the “goodness” of leptomenineal collateral responce.  Patients with healthy compliant arteries can effectively decrease resistance, whereas those with atherosclerotic (“hard” and noncompliant, by definition of atherosclerosis) vessels are not effective, and must rely more on increasing pressure.\n"
   ]
  },
  {
   "cell_type": "markdown",
   "metadata": {},
   "source": [
    "<img src=\"images/perfusion_4.png\">"
   ]
  },
  {
   "cell_type": "markdown",
   "metadata": {},
   "source": [
    "Collateral response can be seen angiographically as well as by perfusion.  In this patient with left M1 occlusion (yellow arrow), the [MCA](#mca)(The middle cerebral artery) territory (purple oval) is at risk.  Notice patent lateral lenticulostriate branch (red arrow).  In late arterial phase, due to robust leptomeningeal collaterals, a lot of MCA branches are retrogradely filling (red oval).  In early venous phase, there is more filling of MCA territory, but some areas don’t look good, such as those of more distal M1 lenticulostriates (yellow oval) and the temporal pole (black oval)."
   ]
  },
  {
   "cell_type": "markdown",
   "metadata": {},
   "source": [
    "### Perfusion Imaging\n",
    "The aim is to provide a physiologic understanding of perfusion maps, beyond the simple “mismatch” concept, and therefore derive insight which will better guide therapeutic decision-making. \n",
    "\n",
    "The concept of perfusion is simple — a bolus(a small rounded mass of a substance, especially of chewed food at the moment of swallowing.) of contrast is injected, and a pre-selected tissue area is repeatedly scanned while the bolus passes through it.  Arrival of contrast into the brain increases  “brightness” of the tissue, which is measured in Hounsfield Units (HU).  Various curves are generated based on time, speed, extent, and duration of contrast presence within each volume of tissue (voxel). The basic measurements of perfusion are flow and volume, with additional various parameters such as time to peak, mean transit time, time to drain, and others being provided by different equipment and software developers.  Here is a typical perfusion curve:"
   ]
  },
  {
   "cell_type": "markdown",
   "metadata": {},
   "source": [
    "<img src=\"images/perfusion_curve.png\">"
   ]
  },
  {
   "cell_type": "markdown",
   "metadata": {},
   "source": [
    "Time to Start is rarely used; Time to Peak (TTP) is a very sensitive measure of decrease in flow — it takes longer for contrast to arrive into an area where the primary road is blocked than into an area where the direct arterial pathway is open; cerebral blood flow (CBF) is the slope of the curve as contrast arrives into the brain — the more vertical the slope, the faster the flow (areas perfused by collateral vessels have slower, less robust inflow); CBV is the volume under the curve — the total amount of contrast that was present in the tissue over time of measurement (this is, crudely, a measure of whether or not blood actually gets where it needs to go, even if at a slower pace).  Volume is related to flow through the parameter of Mean Transit Time (MTT) — you can have slow inflow, but over time greater total volume."
   ]
  },
  {
   "cell_type": "markdown",
   "metadata": {},
   "source": [
    "**Ischemic stroke**, from major branch occlusion, for example, results in the following changes:\n",
    "\n",
    "##  <font color=\"red\">Time to peak is ALWAYS prolonged.MTT always increases. It takes longer for blood to get to the affected area than to normal area if the direct route is blocked.</font>\n",
    "    So TTP mapping is a very important.\n",
    "\n",
    "## Flow is usually prolonged, but not always.  Pressure and resistance adaptations may be so effective as to keep flow at or near baseline (the slope of the curve stays about the same) — which is why Time to Peak is more sensitive than flow.  On the other hand, if flow is normalized, the area might do well even without pharmacologic or mechanical reperfusion.\n",
    "\n",
    "## Volume is variable, and not as intuitive.  The volume that’s measured is NOT volume of blood in voxel per se, but rather volume of contrast bolus over some defined measurement time.  Volume of blood in dead brain is actually high, but as the area has no inflow, no contrast gets in, and so measured volume is low.  The adaptive response to occlusion is decreasing resistance, which means means increasing vascular bed capacitance (i.e. vasodilatation), which means increase in total volume.  Effective collateral adaptation can result in increase in total volume (CBV) measurement within the affected territory (see example below).  Alternatively, poor collateral responce means less effective inflow, and overall decrease in volume. Whatever the case, low CBV is always bad news. The following examples will illustrate these points:\n",
    "\n",
    "A study of typical stroke perfusion maps and corresponding curves is essential.  Patient presents with a full left MCA(Middle Celebrtal Artery)syndrome."
   ]
  },
  {
   "cell_type": "markdown",
   "metadata": {},
   "source": [
    "<tr>\n",
    "<td><img src=\"images/perfusion_11.png\"></td>\n",
    "<td><img src=\"images/perfusion_12.png\"></td>\n",
    "</tr>\n"
   ]
  },
  {
   "cell_type": "markdown",
   "metadata": {},
   "source": [
    "Typical pefusion maps.  Knowing color scale is key.\n",
    "\n",
    "For TTP, higher scale (red) means longer TTP (bad), and lower scale (blue) means shorter TTP (good).\n",
    "\n",
    "For CBF, higher scale (red) means faster flow (good), and lower scale (blue) means less flow (bad).\n",
    "\n",
    "For CBV, higher scale (red) means more volume (generally good), and lower scale less volume (generally bad)\n",
    "\n",
    "So, not all red is bad, and not all blue is bad. Besides, different manifacturers use different color scales. So it is better to think physiologically than to try to remember which colors are which."
   ]
  },
  {
   "cell_type": "markdown",
   "metadata": {},
   "source": [
    "<img src=\"images/perfusion_cbf_cbv.png\">"
   ]
  },
  {
   "cell_type": "markdown",
   "metadata": {},
   "source": [
    "x-axis is time, and y-axis is Hounsfield units (brightness of voxel)\n",
    "\n",
    "1. MCA branch: “fast” arrival time (5 seconds) and “tight” curve, with washout complete by 20 seconds\n",
    "\n",
    "2. Vein: slower arrival (10 seconds), very high enhancement (y-axis, 400 HU), and slower washout\n",
    "\n",
    "3. Normal: looks a lot like “MCA branch”, with somewhat lower HU (~45), and more contrast remaining in the tissue after washout (past 20 seconds) — this remaining contast, BTW, is what’s measured as “enhancement”\n",
    "\n",
    "4. Low risk: decreased flow (slope of curve is less steep), increased time to peak (x-axis: 16 seconds rather than ~12 sec for normal brain), and about the same volume (area under curve). Notice that contrast gets in slower and stays longer — the washout phase is prolonged\n",
    "\n",
    "5. High risk: even slower flow, more gentle slope, longer time to peak (24 seconds), and much longer whashout phase — by 40 seconds, a lot of contrast is still there.  Why does the “CBV” map show decreased volume then?  Because the volume is not measured over 40 seconds, but perhaps over 20 or 30, depending on how the software reconstruction is set up.  That’s the key to understanding CBV\n",
    "\n",
    "6. Dead brain — black holes on all maps – there is no curve, because contrast can’t get there at all"
   ]
  },
  {
   "cell_type": "markdown",
   "metadata": {},
   "source": [
    "# Perfusion imaging:Case of very early perfusion imaging:\n"
   ]
  },
  {
   "cell_type": "markdown",
   "metadata": {},
   "source": [
    "<tr>\n",
    "<td><img src=\"images/Perfusion_early.jpg\"></td>\n",
    "<td><img src=\"images/perfusion_early_CT.jpg\"></td>\n",
    "</tr>"
   ]
  },
  {
   "cell_type": "markdown",
   "metadata": {},
   "source": [
    "This patient underwent perfusion imaging within 30 minutes of symptom onset.  CBF is low, yet CBV is very high.  Its is unusual to see such a big discrepancy — essentially implying that despite severely reduced inflow (CBF), the tissue is still able to not only normalize but increase its total measured volume (CBV).  It would seem that the situation is favorable. The artery was mecanically opened (Solitaire) within the next hour, less than 2 hours from symptom onset, yet final infarct was completely matched to the area of occlusion (CT scan below).  It may be that the scan was obtained early enough, when the brain was still alive, or perhaps not, but its vascular bed continued to allow for slow inflow.  Either way, some suggest that perfusion might not be as reliable when obtained very early in the ictus, as this case illustrates."
   ]
  },
  {
   "cell_type": "markdown",
   "metadata": {},
   "source": [
    "# MR Spectroscopy\n",
    "\n",
    "> Any nucleus with a nonzero nuclear spin has the ability to generate an MR signal; thus metabolic derangements induced by ischemia can be depicted with MR spectroscopy (MRS).\n",
    "\n",
    "MRS is currently the only noninvasive method for measuring millimolar concentrations of cerebral metabolites, such as lactate, amino and fatty acids, phosphorus metabolites, and other metabolically relevant compounds, such as neurotransmitters.\n",
    "\n",
    "> MRS studies of cerebral ischemia have been confined primarily to proton (1H) and phosphorus (31P) nuclei because of their natural abundance. 31P MRS can detect subtle frequency differences between various phosphate nuclei. Thus ATP resonances can be distinguished from other phosphate-containing molecules, such as inorganic phosphates, phosphocreatine, and phosphodiesters. Immediately after an acute ischemic insult, there is progressive loss of high-energy intracellular ATP and phosphocreatine (PCr), with resultant decreases in the phosphocreatine/inorganic phosphate (PCr/Pi) ratio. 31P MRS can detect these alterations within minutes after the onset of ischemia, whereas the signal alteration on T2-weighted images is not observed until 11/2 to 3 hours after arterial occlusion.10,92\n",
    "\n",
    "\n",
    "> High-resolution 1H MRS is expected to improve our understanding of the metabolic alterations that accompany ischemia, particularly those related to acid-base balance. 1H MRS can depict an increase in lactate concentration and concomitant decrease in intracellular pH in the hyperacute ischemic stage when conventional MRI signal abnormalities are minimal. N-Acetylaspartate (NAA) is thought to be located solely in neuronal bodies and has been shown to be either depleted or completely absent from infarcted tissue on MRS.11,83 Thus it is speculated that areas of the brain that have elevated lactate concentrations but also exhibit normal levels of NAA may represent ischemic tissue that is potentially salvageable. However, aside from the experimental context, current MRS methodology holds little role in the clinical management of stroke given the associated medical and logistical problems in the patient with acute ischemia."
   ]
  },
  {
   "cell_type": "markdown",
   "metadata": {
    "collapsed": true
   },
   "source": [
    "# MR Image Contrast \n",
    " * T2-weighted Image\n",
    "   * Short T2=low signal ----we see dark\n",
    "   * Long T2=high signal ---we see bright\n",
    " * T1-weighted Image\n",
    "   * Short T1=high signal  ----very bright such as FAT\n",
    "   * Long T2=low signal\n",
    "   * T1 weighted image is good for hemmorraahic stroke\n",
    " * Most brain pathology has long T2 and Long T1\n",
    "   * High signal on T2W1\n",
    "   * Low signal on T1W1\n",
    " * Except fat and subacute blood,which have subacute blood ,which has short T1\n",
    "   * High signal on T1W1"
   ]
  },
  {
   "cell_type": "markdown",
   "metadata": {},
   "source": [
    "Type |TR(msec) | TE(msec)\n",
    "-----|---------|---------     \n",
    "T1-Weighted(short TR and TE)| \t500 |\t14\n",
    "T2-Weighted(long TR and TE)| \t4000 |\t90\n",
    "Flair(very long TR and TE) | \t9000 |\t114\n",
    "\n",
    "Table:Most common MRI Sequences and their Approximate TR and TE times.\n",
    "\n",
    "### TE=Time of Echo         TR=Time of Reception"
   ]
  },
  {
   "cell_type": "markdown",
   "metadata": {},
   "source": [
    "Tissue | T1-Weighted |\tT2-Weighted\n",
    "-------|-------------|-------------\n",
    "CSF | Dark |\tBright\n",
    "Muscle |\tGray |\tDark Gray\n",
    "Spinal Cord |\tGray |\tLight Gray\n",
    "Fat (subcutaneous tissue) |\tBright |\tLight\n",
    "Disk (if intact and hydrated) |\tGray |\tBright\n",
    "Air (pharynx) |\tVery Dark |\tVery Dark\n",
    "Inflammation(edema, infarction, demyelination)|Dark |\tBright"
   ]
  },
  {
   "cell_type": "markdown",
   "metadata": {},
   "source": [
    "From the above table :T1W image will not be helpfull for visualising Ischemic Brain area but good for hemmorrahic stroke area"
   ]
  },
  {
   "cell_type": "markdown",
   "metadata": {},
   "source": [
    "# [MR imaging of ischemic stroke: Stroke image with different imaging technique with time]()"
   ]
  },
  {
   "cell_type": "markdown",
   "metadata": {},
   "source": [
    "<img src=\"images/t1t2dwi.jpg\">"
   ]
  },
  {
   "cell_type": "markdown",
   "metadata": {},
   "source": [
    "\n",
    "\n",
    "When we compare the findings on T2WI and DWI in time we will notice the following:\n",
    "\n",
    "> In the acute phase T2WI will be normal, but in time the infarcted area will become hyperintense.The hyperintensity on T2WI reaches its maximum between 7 and 30 days. After this it starts to fade.\n",
    "    \n",
    "> DWI is already positive in the acute phase and then becomes more bright with a maximum at 7 days.DWI in brain infarction will be positive for approximately for 3 weeks after onset (in spinal cord infarction DWI is only positive for one week!).\n",
    "\n",
    "> ADC will be of low signal intensity with a maximum at 24 hours and then will increase in signal intensity and finally becomes bright in the chronic stage.\n",
    "\n"
   ]
  },
  {
   "cell_type": "markdown",
   "metadata": {},
   "source": [
    "# Summery\n",
    "\n",
    "The risk of embolic stroke in patients with Nonvalvular Atrial Fibrillation is not uniform and depends on many factors in addition to AFib.  The annual incidence is somewhere between 1-7%, which speaks for itself.  Anticoagulation lowers this risk by roughly 3 fold, for example from 6% annually to 2% annually.  The nubmers needed to treat will be in the 20-30 persons to prevent 1 annual stroke.  Strategies for anti-coagulation are many, and there is in my opinion no reasonable consensus.  The trend seems to be to manage with antiplatelet agents those with “low risk” uncomplicated nonvalvular AF where the annual stroke risk is estimated to be about 1%.  On the other end, advanced age patients and those who are felt to be more likely to suffer hemorrhagic complications from anticoagualtion are increasingly managed with antiplatelets even though stroke risk may be “high”.  The choice of anticoagulation agent is also becoming more and more complex, with different ones on the market.\n",
    "\n",
    "Interventional treatment of ischemic stroke is essentially treatment of large vessel occlusion, most of which (in the western population) is going to be embolic.  The simple goal is to re-establish blood flow in order to salvage brain.  The issues are many.  The brain is by far the most vulnerable organ to ischemia and hypoxia in the body.  Global hypoperfusion to the brain (cardiac arrest) will produce catastrophic brain damage in as little as 10-15 minutes, far quicker than the 3-4.5 hour “cutoff” for IV t-PA administration.  The reason for this is the presence of collaterals to the ischemic territory.  The robustness of collaterals largely determines the extent of brain “survivability”.  This dysfunctional but still salvageable brain is the “penumbra”.  For some people, there will be no penumbra in a few minutes. Others can last far beyond the 4.5 hour window.  On a population basis, with no data other than a head CT, the time window for t-PA intervention is about 3 to 4.5 hours, and is determined by a balance of tPA risk and benefit.\n",
    "Determining the size, location, and rate of loss of penumbra is complex.  Various approaches exist.  We emphasize the role of penumbra imaging, CT perfusion in our case, to determine which patients may benefit from restroation of blood flow.  Simply put, patients who have no penumbra and no salvageable brain tissue by the time they present for treatment\n",
    "will not benefit from flow restoration.\n",
    "\n",
    "The keys to success, in our opinion, are:\n",
    "\n",
    " 1) Identify patients with neurologically meaningful penumbra (not just large or small, but what functional area is affected)\n",
    " \n",
    " 2) Effectively restore flow to neurologically meaningful penumbra (TICI scores are critical for results reporting, while specific brain areas are more meangful in individual cases)\n",
    " \n"
   ]
  },
  {
   "cell_type": "markdown",
   "metadata": {},
   "source": [
    "# Seizure"
   ]
  },
  {
   "cell_type": "markdown",
   "metadata": {},
   "source": [
    "occasionally mimics stroke.  There is increased CBV and CBF, and decreased TTP (faster arrival of bolus), all due to vasodilatation in area of seizure involving the left hemisphere. \n",
    "\n",
    "> Seizure--TTP decreases\n",
    "\n",
    "> Stroke--TTP increases"
   ]
  },
  {
   "cell_type": "markdown",
   "metadata": {},
   "source": [
    "<img src=\"images/seizure_perfusion.png\">"
   ]
  },
  {
   "cell_type": "markdown",
   "metadata": {},
   "source": [
    "In general, any situation where the suspected region of abnormality has decreased, rather than increased TTP, or MTT, or CBF can not possibly be suffering from proximal occlusion, the hallmark of which is decreased flow and prolonged bolus arrival times.  Either perfusion study is somehow invalid (reconstruction error) or it is not a stroke. "
   ]
  },
  {
   "cell_type": "markdown",
   "metadata": {},
   "source": []
  },
  {
   "cell_type": "markdown",
   "metadata": {},
   "source": []
  },
  {
   "cell_type": "markdown",
   "metadata": {},
   "source": []
  },
  {
   "cell_type": "markdown",
   "metadata": {},
   "source": []
  },
  {
   "cell_type": "markdown",
   "metadata": {},
   "source": []
  },
  {
   "cell_type": "markdown",
   "metadata": {},
   "source": []
  },
  {
   "cell_type": "markdown",
   "metadata": {},
   "source": []
  },
  {
   "cell_type": "markdown",
   "metadata": {
    "collapsed": true
   },
   "source": []
  }
 ],
 "metadata": {
  "kernelspec": {
   "display_name": "Python 2",
   "language": "python",
   "name": "python2"
  },
  "language_info": {
   "codemirror_mode": {
    "name": "ipython",
    "version": 2
   },
   "file_extension": ".py",
   "mimetype": "text/x-python",
   "name": "python",
   "nbconvert_exporter": "python",
   "pygments_lexer": "ipython2",
   "version": "2.7.6"
  },
  "widgets": {
   "state": {},
   "version": "1.1.2"
  }
 },
 "nbformat": 4,
 "nbformat_minor": 0
}
